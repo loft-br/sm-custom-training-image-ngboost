{
    "cells": [
        {
            "cell_type": "markdown",
            "source": [
                "## If executing on Cloud9 or AWS Environment, uncomment following Code Block"
            ],
            "metadata": {}
        },
        {
            "cell_type": "code",
            "execution_count": null,
            "source": [
                "\"\"\"\n",
                "import boto3\n",
                "from sagemaker import get_execution_role\n",
                "\n",
                "account_id = boto3.client('sts').get_caller_identity().get('Account')\n",
                "ecr_repository = 'ngboost-custom-container-test'\n",
                "tag = ':latest'\n",
                "\n",
                "region = boto3.session.Session().region_name\n",
                "\n",
                "uri_suffix = 'amazonaws.com'\n",
                "if region in ['cn-north-1', 'cn-northwest-1']:\n",
                "    uri_suffix = 'amazonaws.com.cn'\n",
                "\n",
                "byoc_image_uri = '{}.dkr.ecr.{}.{}/{}'.format(account_id, region, uri_suffix, ecr_repository + tag)\n",
                "\n",
                "byoc_image_uri\n",
                "# This should return something like\n",
                "# 111122223333.dkr.ecr.us-east-2.amazonaws.com/sagemaker-byoc-test:latest\n",
                "\n",
                "role = get_execution_role()\n",
                "\"\"\""
            ],
            "outputs": [],
            "metadata": {}
        },
        {
            "cell_type": "markdown",
            "source": [
                "## If executing locally, uncomment following Code Block"
            ],
            "metadata": {}
        },
        {
            "cell_type": "code",
            "execution_count": null,
            "source": [
                "import boto3\n",
                "import sagemaker\n",
                "from sagemaker import get_execution_role\n",
                "\n",
                "PROFILE_NAME = '' # change for your local profile on AWS cli\n",
                "DEFAULT_REGION = '' # change for your region\n",
                "ROLE_ARN = '' # Replace for your role arn\n",
                "\n",
                "\n",
                "boto3.setup_default_session(profile_name=PROFILE_NAME) \n",
                "sess = boto3.Session(region_name=DEFAULT_REGION) \n",
                "region = sess.region_name\n",
                "\n",
                "sts = boto3.client('sts')\n",
                "account_id = sts.get_caller_identity().get('Account')\n",
                "ecr_repository = 'ngboost-custom-container-test'\n",
                "tag = ':latest'\n",
                "uri_suffix = 'amazonaws.com'\n",
                "\n",
                "byoc_image_uri = '{}.dkr.ecr.{}.{}/{}'.format(account_id, region, uri_suffix, ecr_repository + tag)\n",
                "\n",
                "print(byoc_image_uri)\n",
                "\n",
                "assumed_role_object=sts.assume_role(\n",
                "    RoleArn=ROLE_ARN,\n",
                "    RoleSessionName=\"AssumeRoleSession1\"\n",
                ")\n",
                "\n",
                "credentials = assumed_role_object['Credentials']\n",
                "\n",
                "session = boto3.Session(\n",
                "    region_name=region,\n",
                "    aws_access_key_id=credentials['AccessKeyId'],\n",
                "    aws_secret_access_key=credentials['SecretAccessKey'],\n",
                "    aws_session_token=credentials['SessionToken']\n",
                ")\n",
                "\n",
                "sagemaker_session = sagemaker.Session(boto_session=session)\n",
                "role = get_execution_role(sagemaker_session=sagemaker_session)\n",
                "\n",
                "print(role)"
            ],
            "outputs": [],
            "metadata": {}
        },
        {
            "cell_type": "code",
            "execution_count": null,
            "source": [
                "import sagemaker\n",
                "from sagemaker.estimator import Estimator\n",
                "\n",
                "estimator = Estimator(image_uri=byoc_image_uri,\n",
                "                      role=role,\n",
                "                      sagemaker_session=sagemaker_session,\n",
                "                      base_job_name='ngboost-custom-container-test',\n",
                "                      instance_count=1,\n",
                "                      instance_type='ml.m5.large')\n",
                "\n",
                "# start training\n",
                "estimator.fit()"
            ],
            "outputs": [],
            "metadata": {}
        }
    ],
    "metadata": {
        "orig_nbformat": 4,
        "language_info": {
            "name": "python",
            "version": "3.9.1",
            "mimetype": "text/x-python",
            "codemirror_mode": {
                "name": "ipython",
                "version": 3
            },
            "pygments_lexer": "ipython3",
            "nbconvert_exporter": "python",
            "file_extension": ".py"
        },
        "kernelspec": {
            "name": "python3",
            "display_name": "Python 3.9.1 64-bit ('aod_demos_sagemaker': conda)"
        },
        "interpreter": {
            "hash": "2fd9efbee3a26f4b7b530cd827417c36476b691b47c71261788ed247ad670c7a"
        }
    },
    "nbformat": 4,
    "nbformat_minor": 2
}