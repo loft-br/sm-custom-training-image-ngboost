{
    "cells": [
        {
            "cell_type": "markdown",
            "source": [
                "## If executing on Cloud9 or AWS Environment, uncomment following Code Block"
            ],
            "metadata": {}
        },
        {
            "cell_type": "code",
            "execution_count": null,
            "source": [
                "\"\"\"\n",
                "import boto3\n",
                "from sagemaker.estimator import Estimator\n",
                "from sagemaker import get_execution_role\n",
                "\n",
                "sess = boto3.Session()\n",
                "region = sess.region_name\n",
                "sm = sess.client('sagemaker')\n",
                "role = get_execution_role()\n",
                "\"\"\""
            ],
            "outputs": [],
            "metadata": {}
        },
        {
            "cell_type": "markdown",
            "source": [
                "## If executing locally, uncomment following Code Block"
            ],
            "metadata": {}
        },
        {
            "cell_type": "code",
            "execution_count": null,
            "source": [
                "import boto3\n",
                "from sagemaker.estimator import Estimator\n",
                "from sagemaker.local import LocalSession\n",
                "from sagemaker import get_execution_role\n",
                "\n",
                "\n",
                "PROFILE_NAME = '' # change for your local profile on AWS cli\n",
                "DEFAULT_REGION = '' # change for your region\n",
                "ROLE_ARN = '' # Replace for your role arn\n",
                "\n",
                "boto3.setup_default_session(profile_name=PROFILE_NAME) \n",
                "sess = boto3.Session(region_name=DEFAULT_REGION) \n",
                "region = sess.region_name\n",
                "\n",
                "# assuming a role\n",
                "sts_client = boto3.client('sts')\n",
                "assumed_role_object=sts_client.assume_role(\n",
                "    RoleArn=ROLE_ARN,\n",
                "    RoleSessionName=\"AssumeRoleSession1\"\n",
                ")\n",
                "\n",
                "credentials = assumed_role_object['Credentials']\n",
                "\n",
                "session = boto3.Session(\n",
                "    region_name=region,\n",
                "    aws_access_key_id=credentials['AccessKeyId'],\n",
                "    aws_secret_access_key=credentials['SecretAccessKey'],\n",
                "    aws_session_token=credentials['SessionToken']\n",
                ")\n",
                "\n",
                "sagemaker_session = LocalSession(boto_session=session)\n",
                "role = get_execution_role(sagemaker_session=sagemaker_session)\n"
            ],
            "outputs": [],
            "metadata": {}
        },
        {
            "cell_type": "code",
            "execution_count": null,
            "source": [
                "estimator = Estimator(image_uri='ngboost-custom-container-test',\n",
                "                      role=role,\n",
                "                      sagemaker_session=sagemaker_session,\n",
                "                      instance_count=1,\n",
                "                      instance_type='local')\n",
                "\n",
                "estimator.fit()"
            ],
            "outputs": [],
            "metadata": {}
        }
    ],
    "metadata": {
        "orig_nbformat": 4,
        "language_info": {
            "name": "python",
            "version": "3.9.1",
            "mimetype": "text/x-python",
            "codemirror_mode": {
                "name": "ipython",
                "version": 3
            },
            "pygments_lexer": "ipython3",
            "nbconvert_exporter": "python",
            "file_extension": ".py"
        },
        "kernelspec": {
            "name": "python3",
            "display_name": "Python 3.9.1 64-bit ('aod_demos_sagemaker': conda)"
        },
        "interpreter": {
            "hash": "2fd9efbee3a26f4b7b530cd827417c36476b691b47c71261788ed247ad670c7a"
        }
    },
    "nbformat": 4,
    "nbformat_minor": 2
}